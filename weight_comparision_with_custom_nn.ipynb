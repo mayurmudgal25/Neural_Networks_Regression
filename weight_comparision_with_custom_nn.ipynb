{
 "cells": [
  {
   "cell_type": "code",
   "execution_count": 1,
   "metadata": {},
   "outputs": [],
   "source": [
    "import numpy as np\n",
    "import math\n",
    "import seaborn as sns\n",
    "import pandas as pd\n",
    "from sklearn.model_selection import train_test_split\n",
    "import math\n",
    "import numpy as np\n",
    "import tensorflow as tf\n",
    "from tensorflow import keras\n",
    "from tensorflow.keras import layers, regularizers\n",
    "import torch\n",
    "from torch import nn\n",
    "import torch.nn.functional as F\n",
    "import torch.optim as optim"
   ]
  },
  {
   "cell_type": "code",
   "execution_count": 2,
   "metadata": {},
   "outputs": [],
   "source": [
    "class Network:\n",
    "\n",
    "    def __init__(self) -> None:\n",
    "        self.weights = []\n",
    "        self.bias = []\n",
    "        self.activations = []\n",
    "        self.cache = []\n",
    "        \n",
    "    def add_layer(self, hidden_size, input_size=None, activation=1):\n",
    "        if input_size==None:\n",
    "            input_size = len(self.weights[-1])\n",
    "        self.weights.append(np.random.normal(loc=0, scale=0.005, size=(hidden_size, input_size)))\n",
    "        self.bias.append(np.array(hidden_size*[0], dtype=np.float32))\n",
    "        self.activations.append(activation)\n",
    "\n",
    "\n",
    "    def relu(self, Z):\n",
    "        return np.maximum(Z, 0)\n",
    "    \n",
    "    def predict(self, input):\n",
    "        return self.forward_propagation(input)\n",
    "    \n",
    "    def mse(self, y_true, y_pred):\n",
    "        return np.mean(np.power(y_true-y_pred, 2))\n",
    "\n",
    "    # forward propagation\n",
    "    def forward_propagation(self, X):\n",
    "        # retrieve the parameters\n",
    "        self.cache = []\n",
    "        X = X.astype(np.float32)\n",
    "        for index in range(len(self.weights)):\n",
    "            Z = np.dot(self.weights[index], X.T).T + self.bias[index]\n",
    "            if self.activations[index] == 'relu':\n",
    "                A = self.relu(Z)\n",
    "            else:\n",
    "                A = Z\n",
    "            X = A\n",
    "            self.cache.append({'Z': Z, 'A': A})\n",
    "        return self.cache[-1]['A']\n",
    "    \n",
    "    def updateWeights(self, learning_rate):\n",
    "        l = len(self.weights)\n",
    "        for i in range(l):\n",
    "            self.weights[i] = self.weights[i] - learning_rate*self.cache[i]['dw'].T\n",
    "            self.bias[i] = self.bias[i] - learning_rate*self.cache[i]['db']\n",
    "    \n",
    "    def fit(self, X, Y, x_val, y_val, epochs, batch_size, learning_rate=0.001):\n",
    "        for i in range(epochs):\n",
    "            itr = len(X)//batch_size\n",
    "            index = 0\n",
    "            for _ in range(itr):\n",
    "                x = X[index:index+batch_size]\n",
    "                y = Y[index:index+batch_size]\n",
    "                y = y.reshape(-1,1)\n",
    "                index = index+batch_size\n",
    "                self.forward_propagation(x)\n",
    "                self.backprapogation(y)\n",
    "                self.updateWeights(learning_rate)\n",
    "                self.cache = []\n",
    "            y_pred = self.predict(X)\n",
    "            #print(y_pred[0])\n",
    "            y_pred_val = self.predict(x_val)\n",
    "            print('epoch',i,'completed', 'MSE: ', self.mse(Y, y_pred), 'Validation loss: ', self.mse(y_val, y_pred_val))\n",
    "\n",
    "\n",
    "    def backprapogation(self, y):\n",
    "        l = len(self.cache)\n",
    "        a = y\n",
    "        for i in range(l-1, -1, -1):\n",
    "            if i == l-1:\n",
    "                dz = 2*(self.cache[i]['A']-a)/len(a)\n",
    "            else:\n",
    "                dz = np.dot(a, self.weights[i+1]) * np.where(self.cache[i]['Z']>0, 1, 0)\n",
    "            #print(self.cache[i-1]['A'].T.shape, dz.shape)\n",
    "            n = dz.shape[0]\n",
    "            self.cache[i]['dw'] = np.dot(self.cache[i-1]['A'].T, dz) #(1/n)*\n",
    "            self.cache[i]['db'] = np.sum(dz, axis=0, keepdims=True) #2*(self.cache[i]['A']-a)*np.minimum(self.cache[i]['Z'], 1)\n",
    "            #print(self.cache[i]['dw'])\n",
    "            a = dz"
   ]
  },
  {
   "cell_type": "code",
   "execution_count": 4,
   "metadata": {},
   "outputs": [],
   "source": [
    "X = np.concatenate((np.linspace(0.5, 100, 500), np.linspace(200,250,500)), axis=0)\n",
    "Y = []\n",
    "for i in X:\n",
    "    Y.append(math.sqrt(i))\n",
    "X = np.array(X).reshape(-1,1)\n",
    "Y = np.array(Y)"
   ]
  },
  {
   "cell_type": "code",
   "execution_count": 5,
   "metadata": {},
   "outputs": [],
   "source": [
    "indices = np.random.permutation(len(X))\n",
    "\n",
    "# Shuffle X and Y using the permutation\n",
    "X = X[indices]\n",
    "Y = Y[indices]"
   ]
  },
  {
   "cell_type": "code",
   "execution_count": 3,
   "metadata": {},
   "outputs": [],
   "source": [
    "model = Network()\n",
    "model.add_layer(32, input_size=1, activation='relu')\n",
    "model.add_layer(16, activation='relu')\n",
    "model.add_layer(8, activation='relu')\n",
    "model.add_layer(4, activation='relu')\n",
    "model.add_layer(1)"
   ]
  },
  {
   "cell_type": "code",
   "execution_count": 4,
   "metadata": {},
   "outputs": [],
   "source": [
    "class MLP(nn.Module):\n",
    "  '''\n",
    "    Multilayer Perceptron for regression.\n",
    "  '''\n",
    "  def __init__(self):\n",
    "    super().__init__()\n",
    "    self.layers = nn.Sequential(\n",
    "      nn.Linear(1, 32),\n",
    "      nn.ReLU(),\n",
    "      nn.Linear(32, 16),\n",
    "      nn.ReLU(),\n",
    "      nn.Linear(16, 8),\n",
    "      nn.ReLU(),\n",
    "      nn.Linear(8, 4),\n",
    "      nn.ReLU(),\n",
    "      nn.Linear(4, 1)\n",
    "    )\n",
    "\n",
    "\n",
    "  def forward(self, x):\n",
    "    '''\n",
    "      Forward pass\n",
    "    '''\n",
    "    return self.layers(x)"
   ]
  },
  {
   "cell_type": "code",
   "execution_count": 5,
   "metadata": {},
   "outputs": [],
   "source": [
    "kmodel = keras.Sequential([\n",
    "    layers.Dense(32, kernel_initializer='he_normal', input_dim=1, activation='relu'),\n",
    "    layers.Dense(16, kernel_initializer='he_normal', activation='relu'),\n",
    "    layers.Dense(8, kernel_initializer='he_normal', activation='relu'),\n",
    "    layers.Dense(4, kernel_initializer='he_normal', activation='relu'),\n",
    "    layers.Dense(1, kernel_initializer='he_normal'),\n",
    "    ])\n",
    "kmodel.compile(loss='mse',\n",
    "            optimizer=tf.keras.optimizers.legacy.SGD(0.001), metrics=['mean_absolute_percentage_error'])"
   ]
  },
  {
   "cell_type": "markdown",
   "metadata": {},
   "source": [
    "Copying Keras model weight to custom model"
   ]
  },
  {
   "cell_type": "code",
   "execution_count": 6,
   "metadata": {},
   "outputs": [],
   "source": [
    "l = len(model.weights)\n",
    "for i, layer in enumerate(kmodel.layers):\n",
    "    model.weights[i]= layer.get_weights()[0].T\n",
    "    model.bias[i] = layer.get_weights()[1]"
   ]
  },
  {
   "cell_type": "markdown",
   "metadata": {},
   "source": [
    "Model Weight distribution"
   ]
  },
  {
   "cell_type": "code",
   "execution_count": 7,
   "metadata": {},
   "outputs": [],
   "source": [
    "weightsdf = []\n",
    "for i in range(len(model.weights)):\n",
    "    for w in model.weights[i].ravel():\n",
    "        weightsdf.append({'weight': w})\n",
    "weightsdf = pd.DataFrame(weightsdf)"
   ]
  },
  {
   "cell_type": "code",
   "execution_count": 8,
   "metadata": {},
   "outputs": [
    {
     "data": {
      "text/html": [
       "<div>\n",
       "<style scoped>\n",
       "    .dataframe tbody tr th:only-of-type {\n",
       "        vertical-align: middle;\n",
       "    }\n",
       "\n",
       "    .dataframe tbody tr th {\n",
       "        vertical-align: top;\n",
       "    }\n",
       "\n",
       "    .dataframe thead th {\n",
       "        text-align: right;\n",
       "    }\n",
       "</style>\n",
       "<table border=\"1\" class=\"dataframe\">\n",
       "  <thead>\n",
       "    <tr style=\"text-align: right;\">\n",
       "      <th></th>\n",
       "      <th>weight</th>\n",
       "    </tr>\n",
       "  </thead>\n",
       "  <tbody>\n",
       "    <tr>\n",
       "      <th>count</th>\n",
       "      <td>708.000000</td>\n",
       "    </tr>\n",
       "    <tr>\n",
       "      <th>mean</th>\n",
       "      <td>-0.022084</td>\n",
       "    </tr>\n",
       "    <tr>\n",
       "      <th>std</th>\n",
       "      <td>0.382999</td>\n",
       "    </tr>\n",
       "    <tr>\n",
       "      <th>min</th>\n",
       "      <td>-2.417238</td>\n",
       "    </tr>\n",
       "    <tr>\n",
       "      <th>25%</th>\n",
       "      <td>-0.238518</td>\n",
       "    </tr>\n",
       "    <tr>\n",
       "      <th>50%</th>\n",
       "      <td>-0.013889</td>\n",
       "    </tr>\n",
       "    <tr>\n",
       "      <th>75%</th>\n",
       "      <td>0.193354</td>\n",
       "    </tr>\n",
       "    <tr>\n",
       "      <th>max</th>\n",
       "      <td>2.493237</td>\n",
       "    </tr>\n",
       "  </tbody>\n",
       "</table>\n",
       "</div>"
      ],
      "text/plain": [
       "           weight\n",
       "count  708.000000\n",
       "mean    -0.022084\n",
       "std      0.382999\n",
       "min     -2.417238\n",
       "25%     -0.238518\n",
       "50%     -0.013889\n",
       "75%      0.193354\n",
       "max      2.493237"
      ]
     },
     "execution_count": 8,
     "metadata": {},
     "output_type": "execute_result"
    }
   ],
   "source": [
    "weightsdf.describe()"
   ]
  },
  {
   "cell_type": "code",
   "execution_count": 9,
   "metadata": {},
   "outputs": [
    {
     "name": "stderr",
     "output_type": "stream",
     "text": [
      "/var/folders/3t/js5wz46s7yz41m_stlz72vn00000gp/T/ipykernel_78656/2794034409.py:2: UserWarning: \n",
      "\n",
      "`distplot` is a deprecated function and will be removed in seaborn v0.14.0.\n",
      "\n",
      "Please adapt your code to use either `displot` (a figure-level function with\n",
      "similar flexibility) or `histplot` (an axes-level function for histograms).\n",
      "\n",
      "For a guide to updating your code to use the new functions, please see\n",
      "https://gist.github.com/mwaskom/de44147ed2974457ad6372750bbe5751\n",
      "\n",
      "  sns.distplot(weightsdf['weight'], kde = False, color ='red', bins = 30)\n"
     ]
    },
    {
     "data": {
      "text/plain": [
       "<Axes: xlabel='weight'>"
      ]
     },
     "execution_count": 9,
     "metadata": {},
     "output_type": "execute_result"
    },
    {
     "data": {
      "image/png": "[encoded data removed]",
      "text/plain": [
       "<Figure size 640x480 with 1 Axes>"
      ]
     },
     "metadata": {},
     "output_type": "display_data"
    }
   ],
   "source": [
    "sns.set_style('whitegrid')\n",
    "sns.distplot(weightsdf['weight'], kde = False, color ='red', bins = 30)"
   ]
  },
  {
   "cell_type": "code",
   "execution_count": 10,
   "metadata": {},
   "outputs": [],
   "source": [
    "mlp = MLP()"
   ]
  },
  {
   "cell_type": "code",
   "execution_count": 11,
   "metadata": {},
   "outputs": [],
   "source": [
    "# Define the loss function and optimizer\n",
    "loss_function = nn.MSELoss() #mape_loss #nn.L1Loss()\n",
    "optimizer = torch.optim.SGD(mlp.parameters(), lr=0.001)"
   ]
  },
  {
   "cell_type": "code",
   "execution_count": 12,
   "metadata": {},
   "outputs": [
    {
     "data": {
      "text/plain": [
       "Sequential(\n",
       "  (0): Linear(in_features=1, out_features=32, bias=True)\n",
       "  (1): ReLU()\n",
       "  (2): Linear(in_features=32, out_features=16, bias=True)\n",
       "  (3): ReLU()\n",
       "  (4): Linear(in_features=16, out_features=8, bias=True)\n",
       "  (5): ReLU()\n",
       "  (6): Linear(in_features=8, out_features=4, bias=True)\n",
       "  (7): ReLU()\n",
       "  (8): Linear(in_features=4, out_features=1, bias=True)\n",
       ")"
      ]
     },
     "execution_count": 12,
     "metadata": {},
     "output_type": "execute_result"
    }
   ],
   "source": [
    "mlp.layers"
   ]
  },
  {
   "cell_type": "markdown",
   "metadata": {},
   "source": [
    "Copying custom neural network weight to pytorch model"
   ]
  },
  {
   "cell_type": "code",
   "execution_count": 13,
   "metadata": {},
   "outputs": [],
   "source": [
    "with torch.no_grad():\n",
    "    for i in [0,1,2,3,4]:\n",
    "        mlp.layers[2*i].weight = nn.Parameter(torch.from_numpy(model.weights[i]).requires_grad_(True))\n",
    "        mlp.layers[2*i].bias = nn.Parameter(torch.from_numpy(model.bias[i]).requires_grad_(True))\n"
   ]
  },
  {
   "cell_type": "markdown",
   "metadata": {},
   "source": [
    "Initial weights of all the models (All have same weights)"
   ]
  },
  {
   "cell_type": "code",
   "execution_count": 14,
   "metadata": {},
   "outputs": [
    {
     "data": {
      "text/plain": [
       "Parameter containing:\n",
       "tensor([[-1.1920, -0.4745, -1.0694, -1.0544]], requires_grad=True)"
      ]
     },
     "execution_count": 14,
     "metadata": {},
     "output_type": "execute_result"
    }
   ],
   "source": [
    "mlp.layers[-1].weight"
   ]
  },
  {
   "cell_type": "code",
   "execution_count": 15,
   "metadata": {},
   "outputs": [
    {
     "data": {
      "text/plain": [
       "Parameter containing:\n",
       "tensor([0.], requires_grad=True)"
      ]
     },
     "execution_count": 15,
     "metadata": {},
     "output_type": "execute_result"
    }
   ],
   "source": [
    "mlp.layers[-1].bias"
   ]
  },
  {
   "cell_type": "code",
   "execution_count": 16,
   "metadata": {},
   "outputs": [
    {
     "data": {
      "text/plain": [
       "array([[-1.191985 ],\n",
       "       [-0.4745204],\n",
       "       [-1.0694414],\n",
       "       [-1.0543547]], dtype=float32)"
      ]
     },
     "execution_count": 16,
     "metadata": {},
     "output_type": "execute_result"
    }
   ],
   "source": [
    "model.weights[-1].T"
   ]
  },
  {
   "cell_type": "code",
   "execution_count": 17,
   "metadata": {},
   "outputs": [
    {
     "data": {
      "text/plain": [
       "array([0.], dtype=float32)"
      ]
     },
     "execution_count": 17,
     "metadata": {},
     "output_type": "execute_result"
    }
   ],
   "source": [
    "model.bias[-1]"
   ]
  },
  {
   "cell_type": "code",
   "execution_count": 18,
   "metadata": {},
   "outputs": [
    {
     "data": {
      "text/plain": [
       "[array([[-1.191985 ],\n",
       "        [-0.4745204],\n",
       "        [-1.0694414],\n",
       "        [-1.0543547]], dtype=float32),\n",
       " array([0.], dtype=float32)]"
      ]
     },
     "execution_count": 18,
     "metadata": {},
     "output_type": "execute_result"
    }
   ],
   "source": [
    "kmodel.layers[-1].get_weights()"
   ]
  },
  {
   "cell_type": "markdown",
   "metadata": {},
   "source": [
    "Train pytorch with 1 epoach"
   ]
  },
  {
   "cell_type": "code",
   "execution_count": 19,
   "metadata": {},
   "outputs": [],
   "source": [
    "class SqrtDataset(torch.utils.data.Dataset):\n",
    "  '''\n",
    "  Prepare the Poly dataset for regression\n",
    "  '''\n",
    "\n",
    "  def __init__(self, X, y, scale_data=True):\n",
    "    if not torch.is_tensor(X) and not torch.is_tensor(y):\n",
    "      # Apply scaling if necessary\n",
    "      self.X = torch.from_numpy(X)\n",
    "      self.y = torch.from_numpy(y)\n",
    "\n",
    "  def __len__(self):\n",
    "      return len(self.X)\n",
    "\n",
    "  def __getitem__(self, i):\n",
    "      return self.X[i], self.y[i]"
   ]
  },
  {
   "cell_type": "code",
   "execution_count": 20,
   "metadata": {},
   "outputs": [],
   "source": [
    "dataset = SqrtDataset(np.array([[4],[16],[25],[36]]), np.array([2,4,5,6]))\n",
    "trainloader = torch.utils.data.DataLoader(dataset, batch_size=4, shuffle=True)"
   ]
  },
  {
   "cell_type": "code",
   "execution_count": 21,
   "metadata": {},
   "outputs": [],
   "source": [
    "loss_function = nn.MSELoss() #mape_loss #nn.L1Loss()\n",
    "optimizer = torch.optim.SGD(mlp.parameters(), lr=0.001)"
   ]
  },
  {
   "cell_type": "code",
   "execution_count": 22,
   "metadata": {},
   "outputs": [
    {
     "name": "stdout",
     "output_type": "stream",
     "text": [
      "epoch: 0, Loss after mini-batch     1: 28.985\n"
     ]
    }
   ],
   "source": [
    "for epoch in range(0, 1): # 5 epochs at maximum\n",
    "    # Print epoch\n",
    "    #print(f'Starting epoch {epoch+1}')\n",
    "    \n",
    "    # Set current loss value\n",
    "    current_loss = 0.0\n",
    "\n",
    "    for i, data in enumerate(trainloader, 0):\n",
    "      # Get and prepare inputs\n",
    "      inputs, targets = data\n",
    "      inputs, targets = inputs.float(), targets.float()\n",
    "      targets = targets.reshape((targets.shape[0], 1))\n",
    "      \n",
    "      # Zero the gradients\n",
    "      optimizer.zero_grad()\n",
    "      # Perform forward pass\n",
    "      outputs = mlp(inputs)\n",
    "      \n",
    "      # Compute loss\n",
    "      loss = loss_function(outputs, targets)\n",
    "      \n",
    "      # Perform backward pass\n",
    "      loss.backward()\n",
    "      \n",
    "      # Perform optimization\n",
    "      optimizer.step()\n",
    "      \n",
    "      # Print statistics\n",
    "      current_loss += loss.item()\n",
    "      if epoch%10 == 0 and i>= 0 and i % 210 == 0:\n",
    "          print('epoch: %d, Loss after mini-batch %5d: %.3f' %\n",
    "                (epoch, i + 1, current_loss/(i+1)))\n",
    "          current_loss = 0.0"
   ]
  },
  {
   "cell_type": "markdown",
   "metadata": {},
   "source": [
    "Train Keras with 1 epoch"
   ]
  },
  {
   "cell_type": "code",
   "execution_count": 23,
   "metadata": {},
   "outputs": [
    {
     "name": "stdout",
     "output_type": "stream",
     "text": [
      "1/1 [==============================] - 0s 225ms/step - loss: 28.9850 - mean_absolute_percentage_error: 116.3148\n"
     ]
    }
   ],
   "source": [
    "history = kmodel.fit(\n",
    "    np.array([[4],[16],[25],[36]]), np.array([2,4,5,6]),validation_split=0,batch_size=4, shuffle=True,verbose=1, epochs=1)"
   ]
  },
  {
   "cell_type": "markdown",
   "metadata": {},
   "source": [
    "Custom model training with 1 epoach"
   ]
  },
  {
   "cell_type": "code",
   "execution_count": 24,
   "metadata": {},
   "outputs": [],
   "source": [
    "model.predict(np.array([[4],[16],[25], [36]]))\n",
    "model.backprapogation(np.array([[2],[4],[5],[6]]))\n",
    "model.updateWeights(0.001)"
   ]
  },
  {
   "cell_type": "markdown",
   "metadata": {},
   "source": [
    "Weights after 1 epoach (All the weights are same)"
   ]
  },
  {
   "cell_type": "code",
   "execution_count": 25,
   "metadata": {},
   "outputs": [
    {
     "data": {
      "text/plain": [
       "Parameter containing:\n",
       "tensor([[-1.1920, -0.4745, -1.0694, -1.0453]], requires_grad=True)"
      ]
     },
     "execution_count": 25,
     "metadata": {},
     "output_type": "execute_result"
    }
   ],
   "source": [
    "mlp.layers[-1].weight"
   ]
  },
  {
   "cell_type": "code",
   "execution_count": 26,
   "metadata": {},
   "outputs": [
    {
     "data": {
      "text/plain": [
       "Parameter containing:\n",
       "tensor([0.0101], requires_grad=True)"
      ]
     },
     "execution_count": 26,
     "metadata": {},
     "output_type": "execute_result"
    }
   ],
   "source": [
    "mlp.layers[-1].bias"
   ]
  },
  {
   "cell_type": "code",
   "execution_count": 27,
   "metadata": {},
   "outputs": [
    {
     "data": {
      "text/plain": [
       "[array([[-1.191985 ],\n",
       "        [-0.4745204],\n",
       "        [-1.0694414],\n",
       "        [-1.0453037]], dtype=float32),\n",
       " array([0.01005471], dtype=float32)]"
      ]
     },
     "execution_count": 27,
     "metadata": {},
     "output_type": "execute_result"
    }
   ],
   "source": [
    "kmodel.layers[-1].get_weights()"
   ]
  },
  {
   "cell_type": "code",
   "execution_count": 28,
   "metadata": {},
   "outputs": [
    {
     "data": {
      "text/plain": [
       "array([[-1.19198501],\n",
       "       [-0.47452039],\n",
       "       [-1.06944144],\n",
       "       [-1.0453037 ]])"
      ]
     },
     "execution_count": 28,
     "metadata": {},
     "output_type": "execute_result"
    }
   ],
   "source": [
    "model.weights[-1].T"
   ]
  },
  {
   "cell_type": "code",
   "execution_count": 29,
   "metadata": {},
   "outputs": [
    {
     "data": {
      "text/plain": [
       "array([[0.0185346]])"
      ]
     },
     "execution_count": 29,
     "metadata": {},
     "output_type": "execute_result"
    }
   ],
   "source": [
    "model.bias[-1]"
   ]
  },
  {
   "cell_type": "code",
   "execution_count": null,
   "metadata": {},
   "outputs": [],
   "source": [
    "# history = kmodel.fit(\n",
    "#     X, Y,validation_split=0.1,batch_size=10, shuffle=True,verbose=1, epochs=150)"
   ]
  },
  {
   "cell_type": "code",
   "execution_count": 36,
   "metadata": {},
   "outputs": [],
   "source": [
    "# X_train, X_test, y_train, y_test = train_test_split(\n",
    "#     X, Y, test_size=0.2, random_state=42)"
   ]
  },
  {
   "cell_type": "code",
   "execution_count": null,
   "metadata": {},
   "outputs": [],
   "source": [
    "# model.fit(X_train, y_train, X_test, y_test, 30, 10, learning_rate=0.00005)"
   ]
  },
  {
   "cell_type": "code",
   "execution_count": 58,
   "metadata": {},
   "outputs": [
    {
     "data": {
      "text/plain": [
       "dtype('float32')"
      ]
     },
     "execution_count": 58,
     "metadata": {},
     "output_type": "execute_result"
    }
   ],
   "source": [
    "# model.cache[3]['A'].dtype"
   ]
  },
  {
   "cell_type": "code",
   "execution_count": 60,
   "metadata": {},
   "outputs": [
    {
     "name": "stdout",
     "output_type": "stream",
     "text": [
      "1/1 [==============================] - 0s 35ms/step\n"
     ]
    },
    {
     "data": {
      "text/plain": [
       "[[-0.19339026510715485],\n",
       " [-0.7481814026832581],\n",
       " [-1.16427481174469],\n",
       " [-1.6728323698043823]]"
      ]
     },
     "execution_count": 60,
     "metadata": {},
     "output_type": "execute_result"
    }
   ],
   "source": [
    "# kmodel.predict(np.array([[4],[16],[25], [36]])).tolist()"
   ]
  },
  {
   "cell_type": "code",
   "execution_count": 59,
   "metadata": {},
   "outputs": [
    {
     "data": {
      "text/plain": [
       "[[-0.20718670853172735],\n",
       " [-0.8033677517014468],\n",
       " [-1.2505035340787378],\n",
       " [-1.79700282365098]]"
      ]
     },
     "execution_count": 59,
     "metadata": {},
     "output_type": "execute_result"
    }
   ],
   "source": [
    "# model.predict(np.array([[4],[16],[25], [36]])).tolist()"
   ]
  },
  {
   "cell_type": "code",
   "execution_count": null,
   "metadata": {},
   "outputs": [],
   "source": [
    "# model.predict(np.array([85]))"
   ]
  },
  {
   "cell_type": "code",
   "execution_count": null,
   "metadata": {},
   "outputs": [],
   "source": [
    "# math.sqrt(85)"
   ]
  },
  {
   "cell_type": "code",
   "execution_count": null,
   "metadata": {},
   "outputs": [],
   "source": [
    "# model.cache[4]['A']"
   ]
  },
  {
   "cell_type": "code",
   "execution_count": null,
   "metadata": {},
   "outputs": [],
   "source": [
    "# model.cache[0]['A']"
   ]
  },
  {
   "cell_type": "code",
   "execution_count": null,
   "metadata": {},
   "outputs": [],
   "source": [
    "# 1 2 3   4\n",
    "# 2 3 4   5\n",
    "# 3 4 5   6\n",
    "# 4 5 6\n",
    "\n",
    "# 1*4+2*5+3*6\n",
    "# 2*4+3*5+4*6\n"
   ]
  },
  {
   "cell_type": "code",
   "execution_count": 34,
   "metadata": {},
   "outputs": [],
   "source": [
    "# model.backprapogation(np.array([[9]]))\n",
    "# model.updateWeights(0.001)"
   ]
  },
  {
   "cell_type": "code",
   "execution_count": 47,
   "metadata": {},
   "outputs": [],
   "source": [
    "# model.backprapogation(np.array([[2],[4],[5], [6]]))\n",
    "# model.updateWeights(0.001)"
   ]
  },
  {
   "cell_type": "code",
   "execution_count": null,
   "metadata": {},
   "outputs": [],
   "source": [
    "# model.cache[2]['dw']"
   ]
  },
  {
   "cell_type": "code",
   "execution_count": 116,
   "metadata": {},
   "outputs": [
    {
     "data": {
      "image/png": "[encoded data removed]",
      "text/plain": [
       "<Figure size 1000x600 with 1 Axes>"
      ]
     },
     "metadata": {},
     "output_type": "display_data"
    }
   ],
   "source": [
    "import numpy as np\n",
    "import matplotlib.pyplot as plt\n",
    "\n",
    "# Example data\n",
    "X_actual = np.array([i for i in range(1,400)])\n",
    "Y_actual = [math.sqrt(i) for i in X_actual]\n",
    "#Y_pred_rf = rf_model.predict(X_actual.reshape(-1,1))  # Predictions from random forest\n",
    "Y_pred_nn = model.predict(X_actual.reshape(-1,1))  # Predictions from neural network\n",
    "\n",
    "# Plot\n",
    "plt.figure(figsize=(10, 6))\n",
    "\n",
    "# Plot true values\n",
    "#plt.plot(X_actual, Y_actual, color='black', linestyle='-', label='True Values')\n",
    "\n",
    "# Plot Random Forest predictions\n",
    "#plt.plot(X_actual, Y_pred_rf, color='blue', linestyle='--', label='Random Forest Predictions')\n",
    "\n",
    "# Plot Neural Network predictions\n",
    "plt.plot(X_actual, Y_pred_nn, color='green', linestyle='-.', label='Neural Network Predictions')\n",
    "\n",
    "# Add labels and title\n",
    "plt.xlabel('Input')\n",
    "plt.ylabel('Squre root')\n",
    "plt.title('Comparison of True Values and Model Predictions')\n",
    "plt.legend()\n",
    "plt.grid(True)\n",
    "\n",
    "# Show plot\n",
    "plt.show()\n"
   ]
  },
  {
   "cell_type": "code",
   "execution_count": null,
   "metadata": {},
   "outputs": [],
   "source": [
    "import numpy as np\n",
    "import matplotlib.pyplot as plt\n",
    "\n",
    "# Example data\n",
    "X_actual = np.array([i for i in range(1,150)])\n",
    "Y_actual = [math.sqrt(i) for i in X_actual]\n",
    "#Y_pred_rf = rf_model.predict(X_actual.reshape(-1,1))  # Predictions from random forest\n",
    "Y_pred_nn = model.predict(X_actual.reshape(-1,1))  # Predictions from neural network\n",
    "\n",
    "# Plot\n",
    "plt.figure(figsize=(10, 6))\n",
    "\n",
    "# Plot true values\n",
    "plt.plot(X_actual, Y_actual, color='black', linestyle='-', label='True Values')\n",
    "\n",
    "# Plot Random Forest predictions\n",
    "#plt.plot(X_actual, Y_pred_rf, color='blue', linestyle='--', label='Random Forest Predictions')\n",
    "\n",
    "# Plot Neural Network predictions\n",
    "plt.plot(X_actual, Y_pred_nn, color='green', linestyle='-.', label='Neural Network Predictions')\n",
    "\n",
    "# Add labels and title\n",
    "plt.xlabel('Input')\n",
    "plt.ylabel('Squre root')\n",
    "plt.title('Comparison of True Values and Model Predictions')\n",
    "plt.legend()\n",
    "plt.grid(True)\n",
    "\n",
    "# Show plot\n",
    "plt.show()\n"
   ]
  }
 ],
 "metadata": {
  "kernelspec": {
   "display_name": "Python 3",
   "language": "python",
   "name": "python3"
  },
  "language_info": {
   "codemirror_mode": {
    "name": "ipython",
    "version": 3
   },
   "file_extension": ".py",
   "mimetype": "text/x-python",
   "name": "python",
   "nbconvert_exporter": "python",
   "pygments_lexer": "ipython3",
   "version": "3.11.9"
  }
 },
 "nbformat": 4,
 "nbformat_minor": 2
}
