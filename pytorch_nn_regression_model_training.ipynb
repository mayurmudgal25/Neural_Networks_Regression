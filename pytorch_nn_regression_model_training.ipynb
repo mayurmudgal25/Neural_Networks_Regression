{
 "cells": [
  {
   "cell_type": "code",
   "execution_count": 1,
   "metadata": {},
   "outputs": [
    {
     "data": {
      "text/plain": [
       "<torch._C.Generator at 0x1d84c252ed0>"
      ]
     },
     "execution_count": 1,
     "metadata": {},
     "output_type": "execute_result"
    }
   ],
   "source": [
    "# Author: Robert Guthrie\n",
    "\n",
    "import torch\n",
    "from torch import nn\n",
    "import torch.nn.functional as F\n",
    "import torch.optim as optim\n",
    "from torch.utils.data import DataLoader\n",
    "from sklearn.preprocessing import StandardScaler\n",
    "import numpy as np\n",
    "import math\n",
    "\n",
    "torch.manual_seed(1)"
   ]
  },
  {
   "cell_type": "code",
   "execution_count": 6,
   "metadata": {},
   "outputs": [],
   "source": [
    "from sklearn.model_selection import train_test_split"
   ]
  },
  {
   "cell_type": "code",
   "execution_count": 2,
   "metadata": {},
   "outputs": [
    {
     "name": "stdout",
     "output_type": "stream",
     "text": [
      "tensor([[ 0.1755, -0.3268, -0.5069],\n",
      "        [-0.6602,  0.2260,  0.1089]], grad_fn=<AddmmBackward0>)\n"
     ]
    }
   ],
   "source": [
    "lin = nn.Linear(5, 3)  # maps from R^5 to R^3, parameters A, b\n",
    "# data is 2x5.  A maps from 5 to 3... can we map \"data\" under A?\n",
    "data = torch.randn(2, 5)\n",
    "print(lin(data))  # yes"
   ]
  },
  {
   "cell_type": "code",
   "execution_count": 15,
   "metadata": {},
   "outputs": [
    {
     "name": "stdout",
     "output_type": "stream",
     "text": [
      "tensor([[ 0.0581,  0.8505],\n",
      "        [-1.0904, -0.1089]])\n",
      "tensor([[0.0581, 0.8505],\n",
      "        [0.0000, 0.0000]])\n"
     ]
    }
   ],
   "source": [
    "# In pytorch, most non-linearities are in torch.functional (we have it imported as F)\n",
    "# Note that non-linearites typically don't have parameters like affine maps do.\n",
    "# That is, they don't have weights that are updated during training.\n",
    "data = torch.randn(2, 2)\n",
    "print(data)\n",
    "print(F.relu(data))"
   ]
  },
  {
   "cell_type": "code",
   "execution_count": 25,
   "metadata": {},
   "outputs": [
    {
     "data": {
      "text/plain": [
       "4"
      ]
     },
     "execution_count": 25,
     "metadata": {},
     "output_type": "execute_result"
    }
   ],
   "source": [
    "torch.get_num_threads()"
   ]
  },
  {
   "cell_type": "code",
   "execution_count": 2,
   "metadata": {},
   "outputs": [],
   "source": [
    "class MLP(nn.Module):\n",
    "  '''\n",
    "    Multilayer Perceptron for regression.\n",
    "  '''\n",
    "  def __init__(self):\n",
    "    super().__init__()\n",
    "    self.layers = nn.Sequential(\n",
    "      nn.Linear(1, 64),\n",
    "      nn.ReLU(),\n",
    "      nn.Linear(64, 32),\n",
    "      nn.ReLU(),\n",
    "      nn.Linear(32, 1),\n",
    "      nn.ReLU()\n",
    "    )\n",
    "\n",
    "\n",
    "  def forward(self, x):\n",
    "    '''\n",
    "      Forward pass\n",
    "    '''\n",
    "    return self.layers(x)"
   ]
  },
  {
   "cell_type": "code",
   "execution_count": 17,
   "metadata": {},
   "outputs": [],
   "source": [
    "X = np.concatenate((np.linspace(0.5, 200, 500), np.linspace(400,600,500), np.linspace(800,1000,500)), axis=0)\n",
    "Y = []\n",
    "for i in X:\n",
    "    Y.append(math.sqrt(i))\n",
    "X = np.array(X).reshape(-1,1)\n",
    "Y = np.array(Y)"
   ]
  },
  {
   "cell_type": "code",
   "execution_count": 18,
   "metadata": {},
   "outputs": [],
   "source": [
    "indices = np.random.permutation(len(X))\n",
    "\n",
    "# Shuffle X and Y using the permutation\n",
    "X = X[indices]\n",
    "Y = Y[indices]"
   ]
  },
  {
   "cell_type": "code",
   "execution_count": 19,
   "metadata": {},
   "outputs": [],
   "source": [
    "X_train, X_test, y_train, y_test = train_test_split(\n",
    "    X, Y, test_size=0.2, random_state=42)"
   ]
  },
  {
   "cell_type": "code",
   "execution_count": 8,
   "metadata": {},
   "outputs": [],
   "source": [
    "class SqrtDataset(torch.utils.data.Dataset):\n",
    "  '''\n",
    "  Prepare the Poly dataset for regression\n",
    "  '''\n",
    "\n",
    "  def __init__(self, X, y, scale_data=True):\n",
    "    if not torch.is_tensor(X) and not torch.is_tensor(y):\n",
    "      # Apply scaling if necessary\n",
    "      self.X = torch.from_numpy(X)\n",
    "      self.y = torch.from_numpy(y)\n",
    "\n",
    "  def __len__(self):\n",
    "      return len(self.X)\n",
    "\n",
    "  def __getitem__(self, i):\n",
    "      return self.X[i], self.y[i]"
   ]
  },
  {
   "cell_type": "code",
   "execution_count": 25,
   "metadata": {},
   "outputs": [],
   "source": [
    "dataset = SqrtDataset(X_train, y_train)\n",
    "trainloader = torch.utils.data.DataLoader(dataset, batch_size=5, shuffle=True)"
   ]
  },
  {
   "cell_type": "code",
   "execution_count": 21,
   "metadata": {},
   "outputs": [],
   "source": [
    "def mape_loss(output, target):\n",
    "    epsilon = 1e-6  # To avoid division by zero\n",
    "    abs_diff = torch.abs(target - output)\n",
    "    percentage_error = abs_diff / (torch.abs(target) + epsilon)\n",
    "    return torch.mean(percentage_error) * 100"
   ]
  },
  {
   "cell_type": "code",
   "execution_count": 38,
   "metadata": {},
   "outputs": [],
   "source": [
    "mlp = MLP()\n",
    "  \n",
    "# Define the loss function and optimizer\n",
    "loss_function = mape_loss #nn.L1Loss()\n",
    "optimizer = torch.optim.Adam(mlp.parameters(), lr=1e-3)"
   ]
  },
  {
   "cell_type": "code",
   "execution_count": 39,
   "metadata": {},
   "outputs": [
    {
     "name": "stdout",
     "output_type": "stream",
     "text": [
      "epoch: 0, Loss after mini-batch   211: 34.075\n",
      "epoch: 10, Loss after mini-batch   211: 9.410\n",
      "epoch: 20, Loss after mini-batch   211: 6.393\n",
      "epoch: 30, Loss after mini-batch   211: 5.223\n",
      "epoch: 40, Loss after mini-batch   211: 4.809\n",
      "epoch: 50, Loss after mini-batch   211: 2.916\n",
      "epoch: 60, Loss after mini-batch   211: 3.345\n",
      "epoch: 70, Loss after mini-batch   211: 2.866\n",
      "epoch: 80, Loss after mini-batch   211: 2.835\n",
      "epoch: 90, Loss after mini-batch   211: 2.950\n",
      "epoch: 100, Loss after mini-batch   211: 2.315\n",
      "epoch: 110, Loss after mini-batch   211: 2.145\n",
      "epoch: 120, Loss after mini-batch   211: 1.665\n",
      "epoch: 130, Loss after mini-batch   211: 2.015\n",
      "epoch: 140, Loss after mini-batch   211: 2.331\n",
      "epoch: 150, Loss after mini-batch   211: 1.937\n",
      "epoch: 160, Loss after mini-batch   211: 1.718\n",
      "epoch: 170, Loss after mini-batch   211: 1.384\n",
      "epoch: 180, Loss after mini-batch   211: 1.615\n",
      "epoch: 190, Loss after mini-batch   211: 1.498\n",
      "epoch: 200, Loss after mini-batch   211: 1.773\n",
      "epoch: 210, Loss after mini-batch   211: 1.528\n",
      "epoch: 220, Loss after mini-batch   211: 1.566\n",
      "epoch: 230, Loss after mini-batch   211: 1.526\n",
      "epoch: 240, Loss after mini-batch   211: 1.241\n",
      "epoch: 250, Loss after mini-batch   211: 1.429\n",
      "epoch: 260, Loss after mini-batch   211: 1.546\n",
      "epoch: 270, Loss after mini-batch   211: 1.212\n",
      "epoch: 280, Loss after mini-batch   211: 1.388\n",
      "epoch: 290, Loss after mini-batch   211: 1.704\n",
      "epoch: 300, Loss after mini-batch   211: 1.293\n",
      "epoch: 310, Loss after mini-batch   211: 0.995\n",
      "epoch: 320, Loss after mini-batch   211: 1.539\n",
      "epoch: 330, Loss after mini-batch   211: 1.026\n",
      "epoch: 340, Loss after mini-batch   211: 1.353\n",
      "epoch: 350, Loss after mini-batch   211: 1.225\n",
      "epoch: 360, Loss after mini-batch   211: 1.273\n",
      "epoch: 370, Loss after mini-batch   211: 1.093\n",
      "epoch: 380, Loss after mini-batch   211: 0.968\n",
      "epoch: 390, Loss after mini-batch   211: 0.983\n",
      "epoch: 400, Loss after mini-batch   211: 1.129\n",
      "epoch: 410, Loss after mini-batch   211: 1.142\n",
      "epoch: 420, Loss after mini-batch   211: 0.956\n",
      "epoch: 430, Loss after mini-batch   211: 1.163\n",
      "epoch: 440, Loss after mini-batch   211: 1.083\n",
      "epoch: 450, Loss after mini-batch   211: 1.092\n",
      "epoch: 460, Loss after mini-batch   211: 1.094\n",
      "epoch: 470, Loss after mini-batch   211: 1.254\n",
      "epoch: 480, Loss after mini-batch   211: 0.898\n",
      "epoch: 490, Loss after mini-batch   211: 1.033\n"
     ]
    }
   ],
   "source": [
    "for epoch in range(0, 500): # 5 epochs at maximum\n",
    "    # Print epoch\n",
    "    #print(f'Starting epoch {epoch+1}')\n",
    "    \n",
    "    # Set current loss value\n",
    "    current_loss = 0.0\n",
    "\n",
    "    for i, data in enumerate(trainloader, 0):\n",
    "      # Get and prepare inputs\n",
    "      inputs, targets = data\n",
    "      inputs, targets = inputs.float(), targets.float()\n",
    "      targets = targets.reshape((targets.shape[0], 1))\n",
    "      \n",
    "      # Zero the gradients\n",
    "      optimizer.zero_grad()\n",
    "      \n",
    "      # Perform forward pass\n",
    "      outputs = mlp(inputs)\n",
    "      \n",
    "      # Compute loss\n",
    "      loss = loss_function(outputs, targets)\n",
    "      \n",
    "      # Perform backward pass\n",
    "      loss.backward()\n",
    "      \n",
    "      # Perform optimization\n",
    "      optimizer.step()\n",
    "      \n",
    "      # Print statistics\n",
    "      current_loss += loss.item()\n",
    "      if epoch%10 == 0 and i> 0 and i % 210 == 0:\n",
    "          print('epoch: %d, Loss after mini-batch %5d: %.3f' %\n",
    "                (epoch, i + 1, current_loss/(i+1)))\n",
    "          current_loss = 0.0"
   ]
  },
  {
   "cell_type": "code",
   "execution_count": 34,
   "metadata": {},
   "outputs": [],
   "source": [
    "from sklearn.metrics import mean_squared_error\n",
    "from sklearn.metrics import mean_absolute_percentage_error"
   ]
  },
  {
   "cell_type": "code",
   "execution_count": 41,
   "metadata": {},
   "outputs": [
    {
     "name": "stdout",
     "output_type": "stream",
     "text": [
      "0.1507408842813203 0.005812637149984108\n"
     ]
    },
    {
     "name": "stderr",
     "output_type": "stream",
     "text": [
      "c:\\Users\\mmayur\\AppData\\Local\\Programs\\Python\\Python39\\lib\\site-packages\\sklearn\\metrics\\_regression.py:483: FutureWarning: 'squared' is deprecated in version 1.4 and will be removed in 1.6. To calculate the root mean squared error, use the function'root_mean_squared_error'.\n",
      "  warnings.warn(\n"
     ]
    }
   ],
   "source": [
    "y_pred = mlp(torch.from_numpy(X_test.reshape(-1,1)).float()).detach().cpu().numpy()\n",
    "rmse = mean_squared_error(y_test.ravel(), y_pred, squared=False)\n",
    "mape = mean_absolute_percentage_error(y_test.ravel(), y_pred)\n",
    "print(rmse, mape)"
   ]
  },
  {
   "cell_type": "code",
   "execution_count": 93,
   "metadata": {},
   "outputs": [],
   "source": [
    "m = nn.ELU()\n",
    "input = torch.randn(2)\n",
    "output = m(input)"
   ]
  },
  {
   "cell_type": "code",
   "execution_count": 42,
   "metadata": {},
   "outputs": [
    {
     "data": {
      "image/png": "[encoded data removed]",
      "text/plain": [
       "<Figure size 1000x600 with 1 Axes>"
      ]
     },
     "metadata": {},
     "output_type": "display_data"
    }
   ],
   "source": [
    "import matplotlib.pyplot as plt\n",
    "\n",
    "# Example data\n",
    "X_actual = np.linspace(0, 1500, 1500)\n",
    "Y_actual = [math.sqrt(i) for i in X_actual]\n",
    "Y_pred_nn = mlp(torch.from_numpy(X_actual.reshape(-1,1)).float()).detach().cpu().numpy() # Predictions from neural network\n",
    "\n",
    "# Plot\n",
    "plt.figure(figsize=(10, 6))\n",
    "\n",
    "# Plot true values\n",
    "plt.plot(X_actual, Y_actual, color='black', linestyle='-', label='True Values')\n",
    "\n",
    "# Plot Neural Network predictions\n",
    "plt.plot(X_actual, Y_pred_nn, color='green', linestyle='-.', label='Neural Network Predictions')\n",
    "\n",
    "# Add labels and title\n",
    "plt.xlabel('Input')\n",
    "plt.xlim(0,1500)\n",
    "plt.ylabel('square root')\n",
    "plt.title('Comparison of Random Forest and Neural Network Predictions')\n",
    "plt.legend()\n",
    "plt.grid(True)\n",
    "\n",
    "# Show plot\n",
    "plt.show()\n"
   ]
  },
  {
   "cell_type": "code",
   "execution_count": 55,
   "metadata": {},
   "outputs": [
    {
     "data": {
      "text/plain": [
       "tensor([[ 1.9789,  0.1590,  0.4247],\n",
       "        [ 0.4838,  0.4704, -0.0130],\n",
       "        [ 0.0532, -0.2879,  0.1510],\n",
       "        [-0.3888, -0.5611,  0.5687],\n",
       "        [ 1.5684,  0.5698, -0.9451]], requires_grad=True)"
      ]
     },
     "execution_count": 55,
     "metadata": {},
     "output_type": "execute_result"
    }
   ],
   "source": [
    "w"
   ]
  },
  {
   "cell_type": "code",
   "execution_count": 67,
   "metadata": {},
   "outputs": [],
   "source": [
    "x = torch.ones(5)  # input tensor\n",
    "y = torch.zeros(3)  # expected output\n",
    "w = torch.randn(5, 3, requires_grad=True)\n",
    "b = torch.randn(3, requires_grad=True)\n",
    "z = torch.matmul(x, w)+b\n",
    "loss = torch.nn.functional.binary_cross_entropy_with_logits(z, y)"
   ]
  },
  {
   "cell_type": "code",
   "execution_count": 70,
   "metadata": {},
   "outputs": [
    {
     "data": {
      "text/plain": [
       "(tensor([[ 1.7031,  0.8448, -0.0265],\n",
       "         [ 0.5622,  1.0879,  0.8217],\n",
       "         [ 0.5258,  1.0627,  0.2446],\n",
       "         [-0.2436, -1.3045, -0.9276],\n",
       "         [ 1.0536, -3.0057, -0.0083]], requires_grad=True),\n",
       " tensor([-0.1723, -1.5460,  0.3543], requires_grad=True),\n",
       " tensor([1., 1., 1., 1., 1.]))"
      ]
     },
     "execution_count": 70,
     "metadata": {},
     "output_type": "execute_result"
    }
   ],
   "source": [
    "w,b,x"
   ]
  },
  {
   "cell_type": "code",
   "execution_count": 74,
   "metadata": {},
   "outputs": [
    {
     "data": {
      "text/plain": [
       "4"
      ]
     },
     "execution_count": 74,
     "metadata": {},
     "output_type": "execute_result"
    }
   ],
   "source": [
    "torch.get_num_threads()"
   ]
  },
  {
   "cell_type": "code",
   "execution_count": 77,
   "metadata": {},
   "outputs": [
    {
     "data": {
      "text/plain": [
       "0"
      ]
     },
     "execution_count": 77,
     "metadata": {},
     "output_type": "execute_result"
    }
   ],
   "source": [
    "torch.cuda.device_count()"
   ]
  },
  {
   "cell_type": "code",
   "execution_count": 65,
   "metadata": {},
   "outputs": [
    {
     "data": {
      "text/plain": [
       "(tensor([[-0.5746, -0.4133,  0.1847],\n",
       "         [ 0.3519, -0.1045,  0.4480],\n",
       "         [ 0.5578,  0.9765,  0.2809],\n",
       "         [ 0.6761, -0.0571, -1.0737],\n",
       "         [-0.3899,  0.4127, -0.9545]], requires_grad=True),\n",
       " tensor([ 0.9459, -0.9490,  1.2247], requires_grad=True))"
      ]
     },
     "execution_count": 65,
     "metadata": {},
     "output_type": "execute_result"
    }
   ],
   "source": [
    "w,b"
   ]
  },
  {
   "cell_type": "code",
   "execution_count": 60,
   "metadata": {},
   "outputs": [
    {
     "name": "stdout",
     "output_type": "stream",
     "text": [
      "Gradient function for z = <AddBackward0 object at 0x000001D87163E700>\n",
      "Gradient function for loss = <BinaryCrossEntropyWithLogitsBackward0 object at 0x000001D87163E190>\n"
     ]
    }
   ],
   "source": [
    "print(f\"Gradient function for z = {z.grad_fn}\")\n",
    "print(f\"Gradient function for loss = {loss.grad_fn}\")"
   ]
  },
  {
   "cell_type": "code",
   "execution_count": 66,
   "metadata": {},
   "outputs": [
    {
     "name": "stdout",
     "output_type": "stream",
     "text": [
      "tensor([[0.2758, 0.1555, 0.1758],\n",
      "        [0.2758, 0.1555, 0.1758],\n",
      "        [0.2758, 0.1555, 0.1758],\n",
      "        [0.2758, 0.1555, 0.1758],\n",
      "        [0.2758, 0.1555, 0.1758]])\n",
      "tensor([0.2758, 0.1555, 0.1758])\n"
     ]
    }
   ],
   "source": [
    "loss.backward()\n",
    "print(w.grad)\n",
    "print(b.grad)"
   ]
  },
  {
   "cell_type": "code",
   "execution_count": 45,
   "metadata": {},
   "outputs": [
    {
     "name": "stdout",
     "output_type": "stream",
     "text": [
      "tensor([1.], requires_grad=True)\n",
      "tensor([1.], requires_grad=True) tensor([2.])\n"
     ]
    }
   ],
   "source": [
    "x = torch.tensor([1.], requires_grad=True)\n",
    "with torch.no_grad():\n",
    "    y = x * 2\n",
    "print(x)\n",
    "print(x,y)"
   ]
  },
  {
   "cell_type": "code",
   "execution_count": 46,
   "metadata": {},
   "outputs": [
    {
     "data": {
      "text/plain": [
       "False"
      ]
     },
     "execution_count": 46,
     "metadata": {},
     "output_type": "execute_result"
    }
   ],
   "source": [
    "y.requires_grad\n",
    "@torch.no_grad()\n",
    "def doubler(x):\n",
    "    return x * 2\n",
    "z = doubler(x)\n",
    "z.requires_grad\n",
    "# @torch.no_grad\n",
    "# def tripler(x):\n",
    "#     return x * 3\n",
    "# z = tripler(x)\n",
    "# z.requires_grad\n",
    "# # factory function exception\n",
    "# with torch.no_grad():\n",
    "#     a = torch.nn.Parameter(torch.rand(10))\n",
    "# a.requires_grad"
   ]
  }
 ],
 "metadata": {
  "kernelspec": {
   "display_name": "Python 3",
   "language": "python",
   "name": "python3"
  },
  "language_info": {
   "codemirror_mode": {
    "name": "ipython",
    "version": 3
   },
   "file_extension": ".py",
   "mimetype": "text/x-python",
   "name": "python",
   "nbconvert_exporter": "python",
   "pygments_lexer": "ipython3",
   "version": "3.9.2"
  }
 },
 "nbformat": 4,
 "nbformat_minor": 2
}
